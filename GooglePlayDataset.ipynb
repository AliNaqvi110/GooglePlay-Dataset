{
 "cells": [
  {
   "cell_type": "markdown",
   "id": "94bb0b9f-e4ad-4d3e-92ef-b34819d6c037",
   "metadata": {},
   "source": [
    "### <center><font color ='green'>Data Pre-Processing</font></center>\n",
    "### <center><font color='green'>of</font></center>\n",
    "### <center><font color='green'>Google Play Dataset</font></center>"
   ]
  },
  {
   "cell_type": "code",
   "execution_count": null,
   "id": "d6656ceb-5459-4024-bf31-3ec6829ecc17",
   "metadata": {},
   "outputs": [],
   "source": [
    "# import libraries\n",
    "import numpy as np\n",
    "import pandas as pd"
   ]
  },
  {
   "cell_type": "code",
   "execution_count": 2,
   "id": "af2039fc-5c98-4c21-b3dd-bb807b5c2bdc",
   "metadata": {},
   "outputs": [
    {
     "data": {
      "text/html": [
       "<div>\n",
       "<style scoped>\n",
       "    .dataframe tbody tr th:only-of-type {\n",
       "        vertical-align: middle;\n",
       "    }\n",
       "\n",
       "    .dataframe tbody tr th {\n",
       "        vertical-align: top;\n",
       "    }\n",
       "\n",
       "    .dataframe thead th {\n",
       "        text-align: right;\n",
       "    }\n",
       "</style>\n",
       "<table border=\"1\" class=\"dataframe\">\n",
       "  <thead>\n",
       "    <tr style=\"text-align: right;\">\n",
       "      <th></th>\n",
       "      <th>App</th>\n",
       "      <th>Category</th>\n",
       "      <th>Rating</th>\n",
       "      <th>Reviews</th>\n",
       "      <th>Size</th>\n",
       "      <th>Installs</th>\n",
       "      <th>Type</th>\n",
       "      <th>Price</th>\n",
       "      <th>Content Rating</th>\n",
       "      <th>Genres</th>\n",
       "      <th>Last Updated</th>\n",
       "      <th>Current Ver</th>\n",
       "      <th>Android Ver</th>\n",
       "    </tr>\n",
       "  </thead>\n",
       "  <tbody>\n",
       "    <tr>\n",
       "      <th>0</th>\n",
       "      <td>Photo Editor &amp; Candy Camera &amp; Grid &amp; ScrapBook</td>\n",
       "      <td>ART_AND_DESIGN</td>\n",
       "      <td>4.1</td>\n",
       "      <td>159</td>\n",
       "      <td>19M</td>\n",
       "      <td>10,000+</td>\n",
       "      <td>Free</td>\n",
       "      <td>0</td>\n",
       "      <td>Everyone</td>\n",
       "      <td>Art &amp; Design</td>\n",
       "      <td>January 7, 2018</td>\n",
       "      <td>1.0.0</td>\n",
       "      <td>4.0.3 and up</td>\n",
       "    </tr>\n",
       "    <tr>\n",
       "      <th>1</th>\n",
       "      <td>Coloring book moana</td>\n",
       "      <td>ART_AND_DESIGN</td>\n",
       "      <td>3.9</td>\n",
       "      <td>967</td>\n",
       "      <td>14M</td>\n",
       "      <td>500,000+</td>\n",
       "      <td>Free</td>\n",
       "      <td>0</td>\n",
       "      <td>Everyone</td>\n",
       "      <td>Art &amp; Design;Pretend Play</td>\n",
       "      <td>January 15, 2018</td>\n",
       "      <td>2.0.0</td>\n",
       "      <td>4.0.3 and up</td>\n",
       "    </tr>\n",
       "    <tr>\n",
       "      <th>2</th>\n",
       "      <td>U Launcher Lite – FREE Live Cool Themes, Hide ...</td>\n",
       "      <td>ART_AND_DESIGN</td>\n",
       "      <td>4.7</td>\n",
       "      <td>87510</td>\n",
       "      <td>8.7M</td>\n",
       "      <td>5,000,000+</td>\n",
       "      <td>Free</td>\n",
       "      <td>0</td>\n",
       "      <td>Everyone</td>\n",
       "      <td>Art &amp; Design</td>\n",
       "      <td>August 1, 2018</td>\n",
       "      <td>1.2.4</td>\n",
       "      <td>4.0.3 and up</td>\n",
       "    </tr>\n",
       "    <tr>\n",
       "      <th>3</th>\n",
       "      <td>Sketch - Draw &amp; Paint</td>\n",
       "      <td>ART_AND_DESIGN</td>\n",
       "      <td>4.5</td>\n",
       "      <td>215644</td>\n",
       "      <td>25M</td>\n",
       "      <td>50,000,000+</td>\n",
       "      <td>Free</td>\n",
       "      <td>0</td>\n",
       "      <td>Teen</td>\n",
       "      <td>Art &amp; Design</td>\n",
       "      <td>June 8, 2018</td>\n",
       "      <td>Varies with device</td>\n",
       "      <td>4.2 and up</td>\n",
       "    </tr>\n",
       "    <tr>\n",
       "      <th>4</th>\n",
       "      <td>Pixel Draw - Number Art Coloring Book</td>\n",
       "      <td>ART_AND_DESIGN</td>\n",
       "      <td>4.3</td>\n",
       "      <td>967</td>\n",
       "      <td>2.8M</td>\n",
       "      <td>100,000+</td>\n",
       "      <td>Free</td>\n",
       "      <td>0</td>\n",
       "      <td>Everyone</td>\n",
       "      <td>Art &amp; Design;Creativity</td>\n",
       "      <td>June 20, 2018</td>\n",
       "      <td>1.1</td>\n",
       "      <td>4.4 and up</td>\n",
       "    </tr>\n",
       "  </tbody>\n",
       "</table>\n",
       "</div>"
      ],
      "text/plain": [
       "                                                 App        Category  Rating  \\\n",
       "0     Photo Editor & Candy Camera & Grid & ScrapBook  ART_AND_DESIGN     4.1   \n",
       "1                                Coloring book moana  ART_AND_DESIGN     3.9   \n",
       "2  U Launcher Lite – FREE Live Cool Themes, Hide ...  ART_AND_DESIGN     4.7   \n",
       "3                              Sketch - Draw & Paint  ART_AND_DESIGN     4.5   \n",
       "4              Pixel Draw - Number Art Coloring Book  ART_AND_DESIGN     4.3   \n",
       "\n",
       "  Reviews  Size     Installs  Type Price Content Rating  \\\n",
       "0     159   19M      10,000+  Free     0       Everyone   \n",
       "1     967   14M     500,000+  Free     0       Everyone   \n",
       "2   87510  8.7M   5,000,000+  Free     0       Everyone   \n",
       "3  215644   25M  50,000,000+  Free     0           Teen   \n",
       "4     967  2.8M     100,000+  Free     0       Everyone   \n",
       "\n",
       "                      Genres      Last Updated         Current Ver  \\\n",
       "0               Art & Design   January 7, 2018               1.0.0   \n",
       "1  Art & Design;Pretend Play  January 15, 2018               2.0.0   \n",
       "2               Art & Design    August 1, 2018               1.2.4   \n",
       "3               Art & Design      June 8, 2018  Varies with device   \n",
       "4    Art & Design;Creativity     June 20, 2018                 1.1   \n",
       "\n",
       "    Android Ver  \n",
       "0  4.0.3 and up  \n",
       "1  4.0.3 and up  \n",
       "2  4.0.3 and up  \n",
       "3    4.2 and up  \n",
       "4    4.4 and up  "
      ]
     },
     "execution_count": 2,
     "metadata": {},
     "output_type": "execute_result"
    }
   ],
   "source": [
    "# reading dataset\n",
    "data = pd.read_csv('googleplaystore.csv')\n",
    "data.head()"
   ]
  },
  {
   "cell_type": "code",
   "execution_count": 3,
   "id": "93bc41bb-79d3-40d2-820b-3e42fe79aa8e",
   "metadata": {},
   "outputs": [
    {
     "data": {
      "text/plain": [
       "(10841, 13)"
      ]
     },
     "execution_count": 3,
     "metadata": {},
     "output_type": "execute_result"
    }
   ],
   "source": [
    "data.shape"
   ]
  },
  {
   "cell_type": "code",
   "execution_count": 4,
   "id": "92ea3e09-3030-4e1a-88ed-3f574d790058",
   "metadata": {},
   "outputs": [
    {
     "data": {
      "text/plain": [
       "App                object\n",
       "Category           object\n",
       "Rating            float64\n",
       "Reviews            object\n",
       "Size               object\n",
       "Installs           object\n",
       "Type               object\n",
       "Price              object\n",
       "Content Rating     object\n",
       "Genres             object\n",
       "Last Updated       object\n",
       "Current Ver        object\n",
       "Android Ver        object\n",
       "dtype: object"
      ]
     },
     "execution_count": 4,
     "metadata": {},
     "output_type": "execute_result"
    }
   ],
   "source": [
    "data.dtypes"
   ]
  },
  {
   "cell_type": "code",
   "execution_count": 5,
   "id": "4a09a795-a1f5-4b3b-a169-e6b687e96b43",
   "metadata": {},
   "outputs": [
    {
     "data": {
      "text/plain": [
       "App                0.000000\n",
       "Category           0.000000\n",
       "Rating            13.596532\n",
       "Reviews            0.000000\n",
       "Size               0.000000\n",
       "Installs           0.000000\n",
       "Type               0.009224\n",
       "Price              0.000000\n",
       "Content Rating     0.009224\n",
       "Genres             0.000000\n",
       "Last Updated       0.000000\n",
       "Current Ver        0.073794\n",
       "Android Ver        0.027673\n",
       "dtype: float64"
      ]
     },
     "execution_count": 5,
     "metadata": {},
     "output_type": "execute_result"
    }
   ],
   "source": [
    "# lets check for null values\n",
    "missing_data_percent = ((data.isna().sum())/10841)*100\n",
    "missing_data_percent"
   ]
  },
  {
   "cell_type": "markdown",
   "id": "ffc4b399-4653-4631-8759-0af9f59853e5",
   "metadata": {},
   "source": [
    "##### Very less data is missing lets try to recover what we can"
   ]
  },
  {
   "cell_type": "markdown",
   "id": "71027164-9853-46d4-8cc8-bc43dac76232",
   "metadata": {},
   "source": [
    "### <font color='#800000'>Rating</font>"
   ]
  },
  {
   "cell_type": "code",
   "execution_count": 6,
   "id": "5cf75268-492d-466e-944c-b5dc9a7c9f9d",
   "metadata": {},
   "outputs": [
    {
     "data": {
      "text/plain": [
       "array([ 4.1,  3.9,  4.7,  4.5,  4.3,  4.4,  3.8,  4.2,  4.6,  3.2,  4. ,\n",
       "        nan,  4.8,  4.9,  3.6,  3.7,  3.3,  3.4,  3.5,  3.1,  5. ,  2.6,\n",
       "        3. ,  1.9,  2.5,  2.8,  2.7,  1. ,  2.9,  2.3,  2.2,  1.7,  2. ,\n",
       "        1.8,  2.4,  1.6,  2.1,  1.4,  1.5,  1.2, 19. ])"
      ]
     },
     "execution_count": 6,
     "metadata": {},
     "output_type": "execute_result"
    }
   ],
   "source": [
    "data['Rating'].unique()"
   ]
  },
  {
   "cell_type": "code",
   "execution_count": 7,
   "id": "b0b26015-5264-4582-abf5-df8d2e44f25a",
   "metadata": {},
   "outputs": [
    {
     "data": {
      "text/plain": [
       "array([ 4.1,  3.9,  4.7,  4.5,  4.3,  4.4,  3.8,  4.2,  4.6,  3.2,  4. ,\n",
       "        4.8,  4.9,  3.6,  3.7,  3.3,  3.4,  3.5,  3.1,  5. ,  2.6,  3. ,\n",
       "        1.9,  2.5,  2.8,  2.7,  1. ,  2.9,  2.3,  2.2,  1.7,  2. ,  1.8,\n",
       "        2.4,  1.6,  2.1,  1.4,  1.5,  1.2, 19. ])"
      ]
     },
     "execution_count": 7,
     "metadata": {},
     "output_type": "execute_result"
    }
   ],
   "source": [
    "# It is numerical attribute we can find the mean value and replace all misisng values with mean \n",
    "rating_mean = data['Rating'].mean().round()\n",
    "data['Rating'] = data['Rating'].fillna(rating_mean)\n",
    "data['Rating'].unique()"
   ]
  },
  {
   "cell_type": "code",
   "execution_count": 8,
   "id": "a622af10-92a5-42b5-8c57-6063ec44fdec",
   "metadata": {},
   "outputs": [
    {
     "data": {
      "text/plain": [
       "array([4.1, 3.9, 4.7, 4.5, 4.3, 4.4, 3.8, 4.2, 4.6, 3.2, 4. , 4.8, 4.9,\n",
       "       3.6, 3.7, 3.3, 3.4, 3.5, 3.1, 5. , 2.6, 3. , 1.9, 2.5, 2.8, 2.7,\n",
       "       1. , 2.9, 2.3, 2.2, 1.7, 2. , 1.8, 2.4, 1.6, 2.1, 1.4, 1.5, 1.2])"
      ]
     },
     "execution_count": 8,
     "metadata": {},
     "output_type": "execute_result"
    }
   ],
   "source": [
    "# rating is from 1 to 5, 19.0 must have typed mistakenly, replacing with 1.9 which already exists in the data\n",
    "data['Rating'] = data['Rating'].replace([19.], 1.9)\n",
    "data['Rating'].unique()"
   ]
  },
  {
   "cell_type": "markdown",
   "id": "b55590da-84b3-4f7a-b98f-33a67fec474b",
   "metadata": {},
   "source": [
    "### <font color='#800000'>Type</font>"
   ]
  },
  {
   "cell_type": "code",
   "execution_count": 9,
   "id": "40337433-db19-49bd-bef5-74e61ab3911c",
   "metadata": {},
   "outputs": [
    {
     "data": {
      "text/plain": [
       "array(['Free', 'Paid', nan, '0'], dtype=object)"
      ]
     },
     "execution_count": 9,
     "metadata": {},
     "output_type": "execute_result"
    }
   ],
   "source": [
    "data['Type'].unique()"
   ]
  },
  {
   "cell_type": "code",
   "execution_count": 10,
   "id": "1cbf03bf-31a5-485d-a10b-5ffe0899cc7d",
   "metadata": {},
   "outputs": [
    {
     "data": {
      "image/png": "[encoded data removed]",
      "text/plain": [
       "<Figure size 720x504 with 1 Axes>"
      ]
     },
     "metadata": {
      "needs_background": "light"
     },
     "output_type": "display_data"
    }
   ],
   "source": [
    "import matplotlib.pyplot as plt\n",
    "import numpy as np\n",
    "f_c = len(data[data['Type'] == 'Free'])\n",
    "p_c = len(data[data['Type'] == 'Paid'])\n",
    "n_c = len(data[data['Type'] == 'nan'])\n",
    "a_c = len(data[data['Type'] == '0'])\n",
    "\n",
    "\n",
    "catg = ['Free', 'Paid', 'nan', '0']\n",
    "count = [f_c, p_c, n_c, a_c]\n",
    "\n",
    "fig, ax = plt.subplots(figsize = (10,7))\n",
    "\n",
    "ax.bar(catg, count)\n",
    "ax.set_title('Type display')\n",
    "plt.show()"
   ]
  },
  {
   "cell_type": "markdown",
   "id": "a8d98c0f-65f8-47cc-8bad-899a9cdb5620",
   "metadata": {},
   "source": [
    "##### From '0' we may mean all apps that cost zero mean that are free, as it is a categorical data we can find the mode of the data and fill all the nan values and '0' with the mode of the data"
   ]
  },
  {
   "cell_type": "markdown",
   "id": "e1e44ff5-2c57-4a21-aa78-d924f27c0e46",
   "metadata": {},
   "source": [
    "##### Checking 'Type' along with price to know if nan or 0 'Type' have been assigned any price"
   ]
  },
  {
   "cell_type": "code",
   "execution_count": 11,
   "id": "901c1356-f7e2-495a-b70c-53d27326a426",
   "metadata": {},
   "outputs": [
    {
     "name": "stderr",
     "output_type": "stream",
     "text": [
      "c:\\users\\ali naqvi\\appdata\\local\\programs\\python\\python39\\lib\\site-packages\\pandas\\core\\generic.py:9286: SettingWithCopyWarning: \n",
      "A value is trying to be set on a copy of a slice from a DataFrame\n",
      "\n",
      "See the caveats in the documentation: https://pandas.pydata.org/pandas-docs/stable/user_guide/indexing.html#returning-a-view-versus-a-copy\n",
      "  return self._where(\n"
     ]
    },
    {
     "data": {
      "text/plain": [
       "Type     0\n",
       "Price    0\n",
       "dtype: int64"
      ]
     },
     "execution_count": 11,
     "metadata": {},
     "output_type": "execute_result"
    }
   ],
   "source": [
    "# Make new dataframe consisting of 'Type' & 'Price' so that we do not spoil main dataframe\n",
    "\n",
    "frame1 = data[['Type', 'Price']]\n",
    "\n",
    "# specifying conditions\n",
    "filter1 = data[\"Type\"]==\"nan\"\n",
    "filter2 = data[\"Price\"]!=\"0\"\n",
    "\n",
    "# applying conditions in new data frame\n",
    "frame1.where(filter1 & filter2, inplace = True)       # sets rows values to nan if doesn't match criteria\n",
    "frame1.count()     # counting values which are not nans"
   ]
  },
  {
   "cell_type": "markdown",
   "id": "8ffed758-1016-4126-acfa-ebc023d9c774",
   "metadata": {},
   "source": [
    "##### We can say that there is not a single row which has type nan and its price is not zero, which means all nans have zero price which indicates that nans are free app, Its safe to put nans in free categories"
   ]
  },
  {
   "cell_type": "code",
   "execution_count": 12,
   "id": "ffd3707d-8f6f-4915-a9ed-fe72e11df736",
   "metadata": {},
   "outputs": [
    {
     "data": {
      "text/plain": [
       "Type     0\n",
       "Price    0\n",
       "dtype: int64"
      ]
     },
     "execution_count": 12,
     "metadata": {},
     "output_type": "execute_result"
    }
   ],
   "source": [
    "# Similarly we can also check for 'Type = 0' & 'Price != 0'\n",
    "# Make new dataframe consisting of 'Type' & 'Price' so that we do not spoil main dataframe\n",
    "\n",
    "frame2 = data[['Type', 'Price']]\n",
    "\n",
    "# specifying conditions\n",
    "filter1 = data[\"Type\"]==\"0\"\n",
    "filter2 = data[\"Price\"]!=\"0\"\n",
    "\n",
    "# applying conditions in new data frame\n",
    "frame1.where(filter1 & filter2, inplace = True)      # sets rows values to nan if doesn't match criteria\n",
    "frame1.count()     # counting values which are not nans"
   ]
  },
  {
   "cell_type": "markdown",
   "id": "5d63418d-e12e-49ce-9c97-5ed72c8c1717",
   "metadata": {},
   "source": [
    "##### We can say that there is not a single row which has type '0' and its price is not zero, which means all Type'0' have zero price which indicates that '0' are free app, In other words All those rows which have 'Type = 0' there 'Price' is also '0'. So we can also put them in free categories"
   ]
  },
  {
   "cell_type": "code",
   "execution_count": 13,
   "id": "ec1f9b84-34b8-4e15-8a0a-fff30ce9aa90",
   "metadata": {},
   "outputs": [
    {
     "data": {
      "text/plain": [
       "array(['Free', 'Paid'], dtype=object)"
      ]
     },
     "execution_count": 13,
     "metadata": {},
     "output_type": "execute_result"
    }
   ],
   "source": [
    "# Now it safe to replace values in main dataframe\n",
    "data['Type'] = data['Type'].replace(['nan', '0'], 'Free')\n",
    "# As mostly apps are free so we can replace all nan with free\n",
    "data['Type'] = data['Type'].fillna('Free')\n",
    "data['Type'].unique()"
   ]
  },
  {
   "cell_type": "markdown",
   "id": "3abb4715-f848-4083-8922-7ae758f4e0a3",
   "metadata": {},
   "source": [
    "### <font color='#800000'>Content Rating</font>"
   ]
  },
  {
   "cell_type": "code",
   "execution_count": 46,
   "id": "f5c60d76-b79d-4b7a-936b-7ceacd270ab0",
   "metadata": {},
   "outputs": [
    {
     "data": {
      "text/plain": [
       "array(['Everyone', 'Teen', 'Everyone 10+', 'Mature 17+',\n",
       "       'Adults only 18+', 'Unrated', nan], dtype=object)"
      ]
     },
     "execution_count": 46,
     "metadata": {},
     "output_type": "execute_result"
    }
   ],
   "source": [
    "data['Content Rating'].unique()"
   ]
  },
  {
   "cell_type": "code",
   "execution_count": 49,
   "id": "0153337d-5420-4d25-aa9b-f1d2b753b1bd",
   "metadata": {},
   "outputs": [
    {
     "name": "stdout",
     "output_type": "stream",
     "text": [
      "Adults only 18+ =  3\n",
      "Unrated =  2\n"
     ]
    },
    {
     "data": {
      "image/png": "[encoded data removed]",
      "text/plain": [
       "<Figure size 720x504 with 1 Axes>"
      ]
     },
     "metadata": {
      "needs_background": "light"
     },
     "output_type": "display_data"
    }
   ],
   "source": [
    "# Lets check how much data we have in each catgory of 'Content Rating'\n",
    "\n",
    "import matplotlib.pyplot as plt\n",
    "import numpy as np\n",
    "e_c = len(data[data['Content Rating'] == 'Everyone'])\n",
    "t_c = len(data[data['Content Rating'] == 'Teen'])\n",
    "e10_c = len(data[data['Content Rating'] == 'Everyone 10+'])\n",
    "m_c = len(data[data['Content Rating'] == 'Mature 17+'])\n",
    "a_c = len(data[data['Content Rating'] == 'Adults only 18+'])\n",
    "u_c = len(data[data['Content Rating'] == 'Unrated'])\n",
    "\n",
    "\n",
    "catg = ['Everyone', 'Teen', 'Everyone 10+', 'Mature 17+', 'Adults only 18+', 'Unrated']\n",
    "count = [e_c, t_c, e10_c, m_c, a_c, u_c ]\n",
    "\n",
    "print('Adults only 18+ = ', a_c)\n",
    "print('Unrated = ', u_c)\n",
    "fig, ax = plt.subplots(figsize = (10,7))\n",
    "\n",
    "ax.bar(catg, count)\n",
    "ax.set_title('Content Rating')\n",
    "plt.show()"
   ]
  },
  {
   "cell_type": "code",
   "execution_count": 51,
   "id": "910b63fe-db1e-46cf-b39f-a19974267781",
   "metadata": {},
   "outputs": [
    {
     "data": {
      "text/plain": [
       "0.0"
      ]
     },
     "execution_count": 51,
     "metadata": {},
     "output_type": "execute_result"
    }
   ],
   "source": [
    "# Most of the 'Content Rating' is Everyone. So we can replace all nan with 'Everyone'\n",
    "\n",
    "data['Content Rating'] = data['Content Rating'].fillna('Everyone')\n",
    "misg_rating = ((data['Current Ver'].isna().sum())/10841)*100\n",
    "misg_rating"
   ]
  },
  {
   "cell_type": "markdown",
   "id": "e5853c27-e4cf-4e40-bba5-27f1c5d09bad",
   "metadata": {},
   "source": [
    "### <font color='#800000'>Current Ver</font>"
   ]
  },
  {
   "cell_type": "code",
   "execution_count": 14,
   "id": "7f4e7ad3-17dd-486e-b959-28eb96ff7697",
   "metadata": {},
   "outputs": [
    {
     "data": {
      "text/plain": [
       "array(['1.0.0', '2.0.0', '1.2.4', ..., '1.0.612928', '0.3.4', '2.0.148.0'],\n",
       "      dtype=object)"
      ]
     },
     "execution_count": 14,
     "metadata": {},
     "output_type": "execute_result"
    }
   ],
   "source": [
    "data['Current Ver'].unique()"
   ]
  },
  {
   "cell_type": "code",
   "execution_count": 16,
   "id": "67785c2e-ce3f-41e1-897e-ab4d61e0dc11",
   "metadata": {},
   "outputs": [
    {
     "data": {
      "text/plain": [
       "array(['1.0.0', '2.0.0', '1.2.4', ..., '6.04', '1.5.447', '0.3.4'],\n",
       "      dtype=object)"
      ]
     },
     "execution_count": 16,
     "metadata": {},
     "output_type": "execute_result"
    }
   ],
   "source": [
    "# It contains too many akward values we need to clean this column and fill out missing values. All though it will not be much \n",
    "# useful but lets clean what we can.\n",
    "\n",
    "\"\"\"\n",
    "If these values are replaced with given on right then they will have more meaning\n",
    "\n",
    "Varies with device      should be  1.0         As all versions are integer values.\n",
    "1.0.612928              should be  1.0.6\n",
    "2.0.148.0               should be  2.0.1  \n",
    "6.04                    should be  6.4.0\n",
    "1.5.447                 should be  1.5.4\n",
    "1.9.734                 should be  1.9.7\n",
    "1.74                    should be  1.7.4\n",
    "1.72                    should be  1.7.2\n",
    "1.3.81                  should be  1.3.8\n",
    "3.20.001                should be  3.20.1\n",
    "1.48                    should be  1.4.8\n",
    "6.1.61.1                should be  6.1.6\n",
    "6.7.12.2018             should be  6.0     As 7.12.2018 might be date\n",
    "2.2.6.2                 should be 2.2.6\n",
    "1.283.0037              should be 1.0    version can't be that much long\n",
    "7.0.4.6                 should be 7.0.4\n",
    "\"\"\"\n",
    "\n",
    "data['Current Ver'] = data['Current Ver'].replace(['1.0.612928'], '1.0.6')\n",
    "data['Current Ver'] = data['Current Ver'].replace(['2.0.148.0'], '2.0.1')\n",
    "data['Current Ver'] = data['Current Ver'].replace(['6.04'], '6.4.0')\n",
    "data['Current Ver'] = data['Current Ver'].replace(['1.5.447'], '1.5.4')\n",
    "data['Current Ver'] = data['Current Ver'].replace(['1.9.734'], '1.9.7')\n",
    "data['Current Ver'] = data['Current Ver'].replace(['1.72'], '1.7.2')\n",
    "data['Current Ver'] = data['Current Ver'].replace(['1.74'], '1.7.4')\n",
    "data['Current Ver'] = data['Current Ver'].replace(['1.3.81'], '1.3.8')\n",
    "data['Current Ver'] = data['Current Ver'].replace(['3.20.001'], '3.20.1')\n",
    "data['Current Ver'] = data['Current Ver'].replace(['Varies with device'], '1.0')\n",
    "data['Current Ver'] = data['Current Ver'].replace(['6.1.61.1'], '6.1.6')\n",
    "data['Current Ver'] = data['Current Ver'].replace(['6.7.12.2018'], '6.0')\n",
    "data['Current Ver'] = data['Current Ver'].replace(['2.2.6.2'], '2.2.6')\n",
    "data['Current Ver'] = data['Current Ver'].replace(['1.283.0037'], '1.0')\n",
    "data['Current Ver'] = data['Current Ver'].replace(['7.0.4.6'], '7.0.4')\n",
    "\n",
    "# All missing or nan values can be filled by the '1.0' assuming full and final\n",
    "data['Current Ver'] = data['Current Ver'].fillna('1.0')\n",
    "\n",
    "data['Current Ver'].unique()"
   ]
  },
  {
   "cell_type": "code",
   "execution_count": 35,
   "id": "65c3ddf7-c0d6-428a-8d14-2260c1b50923",
   "metadata": {},
   "outputs": [
    {
     "data": {
      "text/plain": [
       "0.0"
      ]
     },
     "execution_count": 35,
     "metadata": {},
     "output_type": "execute_result"
    }
   ],
   "source": [
    "misg_in_ver = ((data['Current Ver'].isna().sum())/10841)*100\n",
    "misg_in_ver"
   ]
  },
  {
   "cell_type": "markdown",
   "id": "7eff1171-3864-4f8a-a608-376fec1438de",
   "metadata": {},
   "source": [
    "### <font color='#800000'>Android Ver</font>"
   ]
  },
  {
   "cell_type": "code",
   "execution_count": 36,
   "id": "0a00759b-b573-4303-9b8c-01c97261b075",
   "metadata": {},
   "outputs": [
    {
     "data": {
      "text/plain": [
       "array(['4.0.3 and up', '4.2 and up', '4.4 and up', '2.3 and up',\n",
       "       '3.0 and up', '4.1 and up', '4.0 and up', '2.3.3 and up',\n",
       "       'Varies with device', '2.2 and up', '5.0 and up', '6.0 and up',\n",
       "       '1.6 and up', '1.5 and up', '2.1 and up', '7.0 and up',\n",
       "       '5.1 and up', '4.3 and up', '4.0.3 - 7.1.1', '2.0 and up',\n",
       "       '3.2 and up', '4.4W and up', '7.1 and up', '7.0 - 7.1.1',\n",
       "       '8.0 and up', '5.0 - 8.0', '3.1 and up', '2.0.1 and up',\n",
       "       '4.1 - 7.1.1', nan, '5.0 - 6.0', '1.0 and up', '2.2 - 7.1.1',\n",
       "       '5.0 - 7.1.1'], dtype=object)"
      ]
     },
     "execution_count": 36,
     "metadata": {},
     "output_type": "execute_result"
    }
   ],
   "source": [
    "data['Android Ver'].unique()"
   ]
  },
  {
   "cell_type": "code",
   "execution_count": 43,
   "id": "bc09fac2-2911-4d2f-9077-6c7285566fbd",
   "metadata": {},
   "outputs": [
    {
     "data": {
      "text/plain": [
       "array(['4.0.3 and up', '4.2 and up', '4.4 and up', '2.3 and up',\n",
       "       '3.0 and up', '4.1 and up', '4.0 and up', '2.3.3 and up',\n",
       "       '2.2 and up', '5.0 and up', '6.0 and up', '1.6 and up',\n",
       "       '1.5 and up', '2.1 and up', '7.0 and up', '5.1 and up',\n",
       "       '4.3 and up', '4.0.3 - 7.1.1', '2.0 and up', '3.2 and up',\n",
       "       '7.1 and up', '7.0 - 7.1.1', '8.0 and up', '5.0 - 8.0',\n",
       "       '3.1 and up', '2.0.1 and up', '4.1 - 7.1.1', '5.0 - 6.0',\n",
       "       '1.0 and up', '2.2 - 7.1.1', '5.0 - 7.1.1'], dtype=object)"
      ]
     },
     "execution_count": 43,
     "metadata": {},
     "output_type": "execute_result"
    }
   ],
   "source": [
    "# Not too many values are disturbed only we need to fill missing values and 'varies with device', we can replace both these \n",
    "# values with the mode that is most of the version used or popular. The idea is that that app might run on every andriod \n",
    "# version so thats why they missed it\n",
    "\n",
    "most_occured = data['Android Ver'].mode()\n",
    "most_occured\n",
    "\n",
    "# So filling with that mode '4.1 and up' seems good.\n",
    "data['Android Ver'] = data['Android Ver'].fillna(str(most_occured))\n",
    "data['Android Ver'] = data['Android Ver'].replace(['Varies with device'], most_occured)\n",
    "data['Android Ver'] = data['Android Ver'].replace(['0    4.1 and up\\ndtype: object'], '4.1 and up')\n",
    "data['Android Ver'] = data['Android Ver'].replace(['4.4W and up'], '4.4 and up')\n",
    "data['Android Ver'].unique()"
   ]
  },
  {
   "cell_type": "markdown",
   "id": "aa32f602-e3b8-471f-8da2-8854dc2abf1e",
   "metadata": {},
   "source": [
    "#### Let's Check percentage of missing data in each feature again"
   ]
  },
  {
   "cell_type": "code",
   "execution_count": 52,
   "id": "ad6d430e-9b57-49fa-8204-aeee31d7db4c",
   "metadata": {},
   "outputs": [
    {
     "data": {
      "text/plain": [
       "App               0.0\n",
       "Category          0.0\n",
       "Rating            0.0\n",
       "Reviews           0.0\n",
       "Size              0.0\n",
       "Installs          0.0\n",
       "Type              0.0\n",
       "Price             0.0\n",
       "Content Rating    0.0\n",
       "Genres            0.0\n",
       "Last Updated      0.0\n",
       "Current Ver       0.0\n",
       "Android Ver       0.0\n",
       "dtype: float64"
      ]
     },
     "execution_count": 52,
     "metadata": {},
     "output_type": "execute_result"
    }
   ],
   "source": [
    "# lets check for null values\n",
    "missing_data_percent = ((data.isna().sum())/10841)*100\n",
    "missing_data_percent"
   ]
  },
  {
   "cell_type": "code",
   "execution_count": 55,
   "id": "f40dae99-3c7c-4da2-b850-96cd27b6cbe9",
   "metadata": {},
   "outputs": [],
   "source": [
    "# None of the attribute have missing value we can save the data in csv format so that we can further use it.\n",
    "data.to_csv('Cleaned Google Play Dataset.csv', index=False)"
   ]
  },
  {
   "cell_type": "code",
   "execution_count": null,
   "id": "4c6a3bb4-95c0-4c4d-bea2-057c72e9b6f8",
   "metadata": {},
   "outputs": [],
   "source": []
  }
 ],
 "metadata": {
  "kernelspec": {
   "display_name": "Python 3",
   "language": "python",
   "name": "python3"
  },
  "language_info": {
   "codemirror_mode": {
    "name": "ipython",
    "version": 3
   },
   "file_extension": ".py",
   "mimetype": "text/x-python",
   "name": "python",
   "nbconvert_exporter": "python",
   "pygments_lexer": "ipython3",
   "version": "3.9.1"
  }
 },
 "nbformat": 4,
 "nbformat_minor": 5
}
